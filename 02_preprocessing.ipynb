{
 "cells": [
  {
   "cell_type": "markdown",
   "metadata": {},
   "source": [
    "No preprocessing necessary. The data is already split into training, testing and validation datasets. When loading the data in each analysis file, the data is loaded and resized to 256x256 as a feature of the function (tf.keras.preprocessing.image_dataset_from_directory) used to import the data."
   ]
  }
 ],
 "metadata": {
  "language_info": {
   "name": "python"
  }
 },
 "nbformat": 4,
 "nbformat_minor": 2
}
